{
  "nbformat": 4,
  "nbformat_minor": 0,
  "metadata": {
    "colab": {
      "name": "hackathon_open-covid2_0.ipynb",
      "provenance": [],
      "collapsed_sections": []
    },
    "kernelspec": {
      "name": "python3",
      "display_name": "Python 3"
    }
  },
  "cells": [
    {
      "cell_type": "code",
      "metadata": {
        "id": "O1L_E7-WnpPr"
      },
      "source": [
        "import pandas as pd\n",
        "data_url = \"https://cloud.minsa.gob.pe/s/Y8w3wHsEdYQSZRp/download\"\n",
        "pd_data = pd.read_csv(data_url, sep=\";\", header=0)\n",
        "\n"
      ],
      "execution_count": 26,
      "outputs": []
    },
    {
      "cell_type": "code",
      "metadata": {
        "colab": {
          "base_uri": "https://localhost:8080/"
        },
        "id": "7ZofNKFr4N0G",
        "outputId": "329ef892-8ce4-4e4a-ea4e-0b2fe5a13d39"
      },
      "source": [
        "print(pd_data.columns)\n",
        "print(pd_data.shape)"
      ],
      "execution_count": 27,
      "outputs": [
        {
          "output_type": "stream",
          "text": [
            "Index(['FECHA_CORTE', 'UUID', 'DEPARTAMENTO', 'PROVINCIA', 'DISTRITO',\n",
            "       'METODODX', 'EDAD', 'SEXO', 'FECHA_RESULTADO'],\n",
            "      dtype='object')\n",
            "(1344969, 9)\n"
          ],
          "name": "stdout"
        }
      ]
    },
    {
      "cell_type": "code",
      "metadata": {
        "colab": {
          "base_uri": "https://localhost:8080/",
          "height": 204
        },
        "id": "oz62zLZZ1XUA",
        "outputId": "31986b3f-7b91-4109-f9ac-5d0b87dc6302"
      },
      "source": [
        "pd.set_option('display.max_colwidth', None)\n",
        "\n",
        "pd_data.head(5)\n",
        "\n",
        "\n",
        "# print(pd_data.head(5))"
      ],
      "execution_count": 21,
      "outputs": [
        {
          "output_type": "execute_result",
          "data": {
            "text/html": [
              "<div>\n",
              "<style scoped>\n",
              "    .dataframe tbody tr th:only-of-type {\n",
              "        vertical-align: middle;\n",
              "    }\n",
              "\n",
              "    .dataframe tbody tr th {\n",
              "        vertical-align: top;\n",
              "    }\n",
              "\n",
              "    .dataframe thead th {\n",
              "        text-align: right;\n",
              "    }\n",
              "</style>\n",
              "<table border=\"1\" class=\"dataframe\">\n",
              "  <thead>\n",
              "    <tr style=\"text-align: right;\">\n",
              "      <th></th>\n",
              "      <th>FECHA_CORTE;UUID;DEPARTAMENTO;PROVINCIA;DISTRITO;METODODX;EDAD;SEXO;FECHA_RESULTADO</th>\n",
              "    </tr>\n",
              "  </thead>\n",
              "  <tbody>\n",
              "    <tr>\n",
              "      <th>0</th>\n",
              "      <td>20210302;7320cabdc1aaca6c59014cae76a134e6;LIMA REGION;HUAROCHIRI;SAN ANTONIO;PR;41;FEMENINO;20200526</td>\n",
              "    </tr>\n",
              "    <tr>\n",
              "      <th>1</th>\n",
              "      <td>20210302;e81602051997ace8340bb8c18fe24c65;APURIMAC;ABANCAY;ABANCAY;PR;32;FEMENINO;20200425</td>\n",
              "    </tr>\n",
              "    <tr>\n",
              "      <th>2</th>\n",
              "      <td>20210302;71ecb6bccb248b0bb2ac72ed51b5e979;APURIMAC;ABANCAY;ABANCAY;PR;34;FEMENINO;20200429</td>\n",
              "    </tr>\n",
              "    <tr>\n",
              "      <th>3</th>\n",
              "      <td>20210302;566af4276cbe9359abe93f9aa86396c3;APURIMAC;ANDAHUAYLAS;ANDAHUAYLAS;PR;40;FEMENINO;20200426</td>\n",
              "    </tr>\n",
              "    <tr>\n",
              "      <th>4</th>\n",
              "      <td>20210302;027561e9d126e7c283d79c02cede562d;APURIMAC;ABANCAY;ABANCAY;PR;40;FEMENINO;20200428</td>\n",
              "    </tr>\n",
              "  </tbody>\n",
              "</table>\n",
              "</div>"
            ],
            "text/plain": [
              "                    FECHA_CORTE;UUID;DEPARTAMENTO;PROVINCIA;DISTRITO;METODODX;EDAD;SEXO;FECHA_RESULTADO\n",
              "0  20210302;7320cabdc1aaca6c59014cae76a134e6;LIMA REGION;HUAROCHIRI;SAN ANTONIO;PR;41;FEMENINO;20200526\n",
              "1            20210302;e81602051997ace8340bb8c18fe24c65;APURIMAC;ABANCAY;ABANCAY;PR;32;FEMENINO;20200425\n",
              "2            20210302;71ecb6bccb248b0bb2ac72ed51b5e979;APURIMAC;ABANCAY;ABANCAY;PR;34;FEMENINO;20200429\n",
              "3    20210302;566af4276cbe9359abe93f9aa86396c3;APURIMAC;ANDAHUAYLAS;ANDAHUAYLAS;PR;40;FEMENINO;20200426\n",
              "4            20210302;027561e9d126e7c283d79c02cede562d;APURIMAC;ABANCAY;ABANCAY;PR;40;FEMENINO;20200428"
            ]
          },
          "metadata": {
            "tags": []
          },
          "execution_count": 21
        }
      ]
    },
    {
      "cell_type": "code",
      "metadata": {
        "colab": {
          "base_uri": "https://localhost:8080/"
        },
        "id": "T_HS6jVw6fBu",
        "outputId": "9ac1df42-b6a5-4576-dfcf-74ba4e0181a0"
      },
      "source": [
        "count = 5\n",
        "for (idx, row) in pd_data.iterrows():\n",
        "  print(idx)\n",
        "  # print(row.UUID)\n",
        "  # print(row.index)\n",
        "  count = count -1\n",
        "  if count == 0:\n",
        "    break\n",
        "  "
      ],
      "execution_count": 33,
      "outputs": [
        {
          "output_type": "stream",
          "text": [
            "0\n",
            "1\n",
            "2\n",
            "3\n",
            "4\n"
          ],
          "name": "stdout"
        }
      ]
    },
    {
      "cell_type": "code",
      "metadata": {
        "id": "1cex6cE14sWF"
      },
      "source": [
        "# insert data\n",
        "import psycopg2\n",
        "\n",
        "dsn = \"host='db.jmac.tk' port=2345 dbname='temp' user=user password=dbpass1234\"\n",
        "def insert_row(conn, cur,fecha_corte, uuid, departamento, provincia, distrito, metododx, edad, sexo, fecha_resultado):\n",
        " \n",
        "  \"\"\" insert a new row into the table \"\"\"\n",
        "  sql = \"\"\"INSERT INTO \"Persona\" ( \"FECHA_CORTE\",\n",
        "  \"UUID\", \"DEPARTAMENTO\", \"PROVINCIA\", \"DISTRITO\", \"METODODX\", \"EDAD\", \"SEXO\", \"FECHARESULTADO\")\n",
        "            VALUES(%s,%s,%s,%s,%s,%s,%s,%s,%s);\"\"\"\n",
        "    \n",
        "  # execute the INSERT statement\n",
        "  cur.execute(sql, (fecha_corte, uuid, departamento, provincia, distrito, metododx, edad, sexo, fecha_resultado,))\n",
        "  # get the generated id back\n",
        "  # vendor_id = cur.fetchone()[0]\n",
        "  # commit the changes to the database\n",
        "  conn.commit()\n",
        "  "
      ],
      "execution_count": 67,
      "outputs": []
    },
    {
      "cell_type": "code",
      "metadata": {
        "colab": {
          "base_uri": "https://localhost:8080/"
        },
        "id": "NPYHQj_TM8MZ",
        "outputId": "6baa6f0a-ebba-4b88-8f55-17fe9c764040"
      },
      "source": [
        "after_idx = 6166 - 1\n",
        "\n",
        "conn = None \n",
        "cur = None\n",
        "try:\n",
        "  conn = psycopg2.connect(dsn)\n",
        "  cur = conn.cursor()\n",
        "  \n",
        "  for (idx, row) in pd_data.iterrows():\n",
        "    if idx > after_idx:\n",
        "      insert_row(conn, cur, row.FECHA_CORTE, row.UUID, row.DEPARTAMENTO, row.PROVINCIA, row.DISTRITO, row.METODODX, row.EDAD, row.SEXO, row.FECHA_RESULTADO)\n",
        "\n",
        "except (Exception, psycopg2.DatabaseError) as error:\n",
        "    print(error)\n",
        "finally:\n",
        "    if cur is not None:\n",
        "      cur.close()\n",
        "    if conn is not None:\n",
        "        conn.close()\n",
        "\n"
      ],
      "execution_count": 68,
      "outputs": [
        {
          "output_type": "stream",
          "text": [
            "integer out of range\n",
            "\n"
          ],
          "name": "stdout"
        }
      ]
    }
  ]
}